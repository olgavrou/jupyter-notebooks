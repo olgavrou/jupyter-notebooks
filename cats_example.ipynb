{
 "cells": [
  {
   "cell_type": "code",
   "execution_count": 1,
   "metadata": {},
   "outputs": [],
   "source": [
    "import matplotlib.pyplot as plt\n",
    "from vowpalwabbit import pyvw\n",
    "import random\n",
    "import json\n"
   ]
  },
  {
   "cell_type": "code",
   "execution_count": 2,
   "metadata": {},
   "outputs": [],
   "source": [
    "USER_LIKED_TEMPERATURE = -1.0\n",
    "USER_DISLIKED_TEMPERATURE = 0.0"
   ]
  },
  {
   "cell_type": "code",
   "execution_count": 3,
   "metadata": {},
   "outputs": [],
   "source": [
    "def get_cost(context, temperature):\n",
    "    if context['user'] == \"Tom\":\n",
    "        if context['time_of_day'] == \"morning\" and temperature < 18.0:\n",
    "            return USER_LIKED_TEMPERATURE\n",
    "        elif context['time_of_day'] == \"afternoon\" and temperature > 25.0:\n",
    "            return USER_LIKED_TEMPERATURE\n",
    "        else:\n",
    "            return USER_DISLIKED_TEMPERATURE\n",
    "    elif context['user'] == \"Anna\":\n",
    "        if context['time_of_day'] == \"morning\" and temperature > 22.0:\n",
    "            return USER_LIKED_TEMPERATURE\n",
    "        elif context['time_of_day'] == \"afternoon\" and temperature < 18.0:\n",
    "            return USER_LIKED_TEMPERATURE\n",
    "        else:\n",
    "            return USER_DISLIKED_TEMPERATURE\n",
    "    else:\n",
    "        return USER_DISLIKED_TEMPERATURE\n",
    "    \n",
    "\n",
    "def get_temp_to_suggest(context):\n",
    "    if context['user'] == \"Tom\":\n",
    "        if context['time_of_day'] == \"morning\":\n",
    "            return 13.0\n",
    "        elif context['time_of_day'] == \"afternoon\":\n",
    "            return 28.0\n",
    "    elif context['user'] == \"Anna\":\n",
    "        if context['time_of_day'] == \"morning\":\n",
    "            return 26.0\n",
    "        elif context['time_of_day'] == \"afternoon\":\n",
    "            return 13.0"
   ]
  },
  {
   "cell_type": "code",
   "execution_count": 4,
   "metadata": {},
   "outputs": [],
   "source": [
    "def to_vw_example_format(context, temperature=None, cats_label=None):\n",
    "    example_dict = {}\n",
    "    if cats_label is not None:\n",
    "        chosen_action, cost, pdf_value = cats_label\n",
    "        example_dict['_label_ca'] = {'action' : chosen_action, 'cost': cost, 'pdf_value': pdf_value}\n",
    "    if temperature is not None:\n",
    "        example_dict['pdf'] = [{'chosen_action': temperature}]\n",
    "    example_dict['c'] = {'user={}'.format(context['user']): 1, 'time_of_day={}'.format(context['time_of_day']) : 1}\n",
    "    return json.dumps(example_dict)"
   ]
  },
  {
   "cell_type": "code",
   "execution_count": 5,
   "metadata": {},
   "outputs": [],
   "source": [
    "users = ['Tom', 'Anna']\n",
    "times_of_day = ['morning', 'afternoon']\n",
    "\n",
    "def choose_user(users):\n",
    "    return random.choice(users)\n",
    "\n",
    "def choose_time_of_day(times_of_day):\n",
    "    return random.choice(times_of_day)\n",
    "\n",
    "def get_temperature(vw, context, temperature=None):\n",
    "    vw_text_example = to_vw_example_format(context, temperature)\n",
    "    return vw.predict(vw_text_example)"
   ]
  },
  {
   "cell_type": "code",
   "execution_count": 15,
   "metadata": {},
   "outputs": [],
   "source": [
    "def run_simulation(vw, num_iterations, users, times_of_day, cost_function, do_learn = True):\n",
    "    cost_sum = 0.\n",
    "    ctr = []\n",
    "    load_new_vw = True\n",
    "    \n",
    "    pos = 0\n",
    "    neg = 0\n",
    "\n",
    "    for i in range(1, num_iterations + 1):\n",
    "        # choose a user randomly\n",
    "        user = choose_user(users)\n",
    "        # choose a time of day randomly\n",
    "        time_of_day = choose_time_of_day(times_of_day)\n",
    "\n",
    "        # context\n",
    "        context = {'user': user, 'time_of_day': time_of_day}\n",
    "        # give a guess\n",
    "        temperature = 0\n",
    "        pdf_value = 0\n",
    "        \n",
    "        # during the first 500 examples tell the model what temperature to predict (for first only)\n",
    "        if i < 500:\n",
    "            temp = get_temp_to_suggest(context)\n",
    "            if get_cost(context, temp) != -1.0:\n",
    "                raise RuntimeError(\"error\")\n",
    "            temperature, pdf_value = get_temperature(vw, context, temp)\n",
    "        else:\n",
    "            temperature, pdf_value = get_temperature(vw, context)\n",
    "        # Get cost\n",
    "        cost = cost_function(context, temperature)\n",
    "        if i > 500:\n",
    "            if cost == -1.0:\n",
    "                pos += 1\n",
    "            else:\n",
    "                neg += 1\n",
    "        cost_sum += cost\n",
    "\n",
    "        if do_learn:\n",
    "            vw_format = vw.parse(to_vw_example_format(context, cats_label=(temperature, cost, pdf_value)), pyvw.vw.lContinuous)\n",
    "            vw.learn(vw_format)\n",
    "            vw.finish_example(vw_format)\n",
    "\n",
    "        if i > 500 and load_new_vw:\n",
    "            # load the model again, but without using --first_only this time when predicting\n",
    "            vw.finish()\n",
    "            load_new_vw = False\n",
    "            # TODO make it so that we resume learning here\n",
    "            vw = pyvw.vw(\"--cats 32 --min_value 0 --max_value 32 --bandwidth 1 --dsjson --chain_hash -i mymodel.model\")\n",
    "\n",
    "        ctr.append(-1*cost_sum/i)\n",
    "    vw.finish()\n",
    "    print(\"positive {}, negative {}\".format(pos, neg))\n",
    "    return ctr"
   ]
  },
  {
   "cell_type": "code",
   "execution_count": 7,
   "metadata": {},
   "outputs": [],
   "source": [
    "def plot_ctr(num_iterations, ctr):\n",
    "    plt.show()\n",
    "    plt.plot(range(1, num_iterations + 1), ctr)\n",
    "    plt.xlabel('num_iterations', fontsize=14)\n",
    "    plt.ylabel('ctr', fontsize=14)\n",
    "    plt.ylim([0,1])"
   ]
  },
  {
   "cell_type": "code",
   "execution_count": 16,
   "metadata": {},
   "outputs": [
    {
     "name": "stdout",
     "output_type": "stream",
     "text": [
      "positive 1902, negative 2598\n"
     ]
    }
   ],
   "source": [
    "vw = pyvw.vw(\"--cats 32 --min_value 0 --max_value 32 --first_only --bandwidth 1 --quiet --dsjson --chain_hash -f mymodel.model\")\n",
    "num_iterations = 5000\n",
    "ctr = run_simulation(vw, num_iterations, users, times_of_day, get_cost)\n",
    "plot_ctr(num_iterations, ctr)"
   ]
  }
 ],
 "metadata": {
  "kernelspec": {
   "display_name": "venv",
   "language": "python",
   "name": "venv"
  },
  "language_info": {
   "codemirror_mode": {
    "name": "ipython",
    "version": 3
   },
   "file_extension": ".py",
   "mimetype": "text/x-python",
   "name": "python",
   "nbconvert_exporter": "python",
   "pygments_lexer": "ipython3",
   "version": "3.6.9"
  }
 },
 "nbformat": 4,
 "nbformat_minor": 4
}
